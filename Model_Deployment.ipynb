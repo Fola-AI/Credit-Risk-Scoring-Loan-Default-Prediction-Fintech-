{
 "cells": [
  {
   "cell_type": "code",
   "execution_count": null,
   "id": "795457ca-a1cb-4174-9eca-4fcf6a5cb17e",
   "metadata": {},
   "outputs": [],
   "source": [
    "from flask import Flask, request, jsonify\n",
    "import joblib\n",
    "import pandas as pd\n",
    "import warnings\n",
    "warnings.filterwarnings('ignore')"
   ]
  },
  {
   "cell_type": "markdown",
   "id": "7acb0f53-3786-48d2-be7c-64be0b75d2c5",
   "metadata": {},
   "source": [
    "### Build a Flask API"
   ]
  },
  {
   "cell_type": "code",
   "execution_count": null,
   "id": "e2280bf9-2384-41fd-a558-e00b7d6af3db",
   "metadata": {},
   "outputs": [],
   "source": [
    "# Load trained model\n",
    "model = joblib.load(\"best_model_XGBoost.pkl\")\n",
    "\n",
    "app = Flask(__name__)\n",
    "\n",
    "@app.route(\"/\")\n",
    "def home():\n",
    "    return {\"message\": \"Model API is running!\"}\n",
    "\n",
    "@app.route(\"/predict\", methods=[\"POST\"])\n",
    "def predict():\n",
    "    data = request.get_json()  # Expecting JSON input\n",
    "    df = pd.DataFrame([data])  # Convert dict to DataFrame\n",
    "\n",
    "    prediction = model.predict(df)[0]\n",
    "    probability = model.predict_proba(df)[0].tolist()\n",
    "\n",
    "    return jsonify({\n",
    "        \"prediction\": int(prediction),\n",
    "        \"probability\": probability\n",
    "    })\n",
    "\n",
    "if __name__ == \"__main__\":\n",
    "    app.run(host=\"0.0.0.0\", port=5000, debug=True)"
   ]
  },
  {
   "cell_type": "markdown",
   "id": "85b60125-df4b-4d4a-b632-24e8cdae82ec",
   "metadata": {},
   "source": [
    "### Containerize with Docker"
   ]
  },
  {
   "cell_type": "code",
   "execution_count": null,
   "id": "098d3a3f-e482-42d0-a9df-7120b71d06b7",
   "metadata": {},
   "outputs": [],
   "source": [
    "FROM python:3.9-slim\n",
    "\n",
    "# Set working dir\n",
    "WORKDIR /app\n",
    "\n",
    "# Copy project files\n",
    "COPY requirements.txt requirements.txt\n",
    "RUN pip install -r requirements.txt\n",
    "\n",
    "COPY . .\n",
    "\n",
    "# Run Flask\n",
    "CMD [\"python\", \"app.py\"]\n",
    "\n",
    "\n",
    "flask\n",
    "pandas\n",
    "joblib\n",
    "scikit-learn\n",
    "xgboost\n",
    "\n",
    "\n",
    "docker build -t mymodel-api .\n",
    "docker run -p 5000:5000 mymodel-api\n",
    "\n"
   ]
  },
  {
   "cell_type": "markdown",
   "id": "4188d7d4-210c-446b-9464-476d67b0ffc6",
   "metadata": {},
   "source": [
    "### Connect to BI"
   ]
  },
  {
   "cell_type": "code",
   "execution_count": null,
   "id": "4218c829-38c7-4dc2-8550-a66124a305ab",
   "metadata": {},
   "outputs": [],
   "source": [
    "let\n",
    "    url = \"http://localhost:5000/predict\",\n",
    "    body = \"{\"\"feature1\"\": 10, \"\"feature2\"\": 5, \"\"feature3\"\": \"\"A\"\"}\",\n",
    "    Source = Json.Document(Web.Contents(url, [\n",
    "        Content = Text.ToBinary(body),\n",
    "        Headers = [#\"Content-Type\"=\"application/json\"],\n",
    "        ManualStatusHandling={400,404,500}\n",
    "    ]))\n",
    "in\n",
    "    Source\n"
   ]
  }
 ],
 "metadata": {
  "kernelspec": {
   "display_name": "Python 3 (ipykernel)",
   "language": "python",
   "name": "python3"
  },
  "language_info": {
   "codemirror_mode": {
    "name": "ipython",
    "version": 3
   },
   "file_extension": ".py",
   "mimetype": "text/x-python",
   "name": "python",
   "nbconvert_exporter": "python",
   "pygments_lexer": "ipython3",
   "version": "3.8.12"
  }
 },
 "nbformat": 4,
 "nbformat_minor": 5
}
